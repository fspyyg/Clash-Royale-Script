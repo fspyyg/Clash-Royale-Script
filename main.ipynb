{
 "cells": [
  {
   "cell_type": "code",
   "execution_count": 1,
   "metadata": {},
   "outputs": [],
   "source": [
    "#                x1   y1  x2  y2\n",
    "img_area    =   [193,160,682,1259]\n",
    "target_area =   [225,847,319,935]"
   ]
  },
  {
   "cell_type": "markdown",
   "metadata": {},
   "source": [
    "## Get Start Image\n"
   ]
  },
  {
   "cell_type": "code",
   "execution_count": 4,
   "metadata": {},
   "outputs": [],
   "source": [
    "import pyautogui\n",
    "import cv2\n",
    "\n",
    "# 获取屏幕截图并保存\n",
    "screenshot = pyautogui.screenshot()\n",
    "screenshot.save(\"screenshot.png\")\n",
    "\n",
    "img = cv2.imread('./screenshot.png')\n",
    "\n",
    "cv2.imshow(\"test\",img[img_area[1]:img_area[3],img_area[0]:img_area[2]])\n",
    "img2 = img[target_area[1]:target_area[3],target_area[0]:target_area[2]]\n",
    "cv2.imwrite(\"Start.png\",img2)\n",
    "cv2.imshow(\"Start\",img2)\n",
    "while True:\n",
    "    if cv2.waitKey(1) & 0xFF == ord('q'):\n",
    "        cv2.destroyAllWindows()\n",
    "        break"
   ]
  },
  {
   "cell_type": "markdown",
   "metadata": {},
   "source": [
    "## Get Battle Image"
   ]
  },
  {
   "cell_type": "code",
   "execution_count": 5,
   "metadata": {},
   "outputs": [],
   "source": [
    "import pyautogui\n",
    "import cv2\n",
    "\n",
    "# 获取屏幕截图并保存\n",
    "screenshot = pyautogui.screenshot()\n",
    "screenshot.save(\"screenshot.png\")\n",
    "\n",
    "img = cv2.imread('./screenshot.png')\n",
    "\n",
    "cv2.imshow(\"test\",img[img_area[1]:img_area[3],img_area[0]:img_area[2]])\n",
    "img2 = img[target_area[1]:target_area[3],target_area[0]:target_area[2]]\n",
    "cv2.imwrite(\"Battle.png\",img2)\n",
    "cv2.imshow(\"Battle\",img2)\n",
    "while True:\n",
    "    if cv2.waitKey(1) & 0xFF == ord('q'):\n",
    "        cv2.destroyAllWindows()\n",
    "        break"
   ]
  },
  {
   "cell_type": "markdown",
   "metadata": {},
   "source": [
    "## Get End Image"
   ]
  },
  {
   "cell_type": "code",
   "execution_count": 6,
   "metadata": {},
   "outputs": [],
   "source": [
    "import pyautogui\n",
    "import cv2\n",
    "\n",
    "# 获取屏幕截图并保存\n",
    "screenshot = pyautogui.screenshot()\n",
    "screenshot.save(\"screenshot.png\")\n",
    "\n",
    "img = cv2.imread('./screenshot.png')\n",
    "\n",
    "cv2.imshow(\"test\",img[img_area[1]:img_area[3],img_area[0]:img_area[2]])\n",
    "img2 = img[target_area[1]:target_area[3],target_area[0]:target_area[2]]\n",
    "cv2.imwrite(\"End.png\",img2)\n",
    "cv2.imshow(\"End\",img2)\n",
    "while True:\n",
    "    if cv2.waitKey(1) & 0xFF == ord('q'):\n",
    "        cv2.destroyAllWindows()\n",
    "        break"
   ]
  },
  {
   "cell_type": "markdown",
   "metadata": {},
   "source": [
    "## Get x,y"
   ]
  },
  {
   "cell_type": "code",
   "execution_count": 7,
   "metadata": {},
   "outputs": [
    {
     "name": "stdout",
     "output_type": "stream",
     "text": [
      "屏幕分辨率: 2560x1600\n",
      "当前鼠标位置: 464, 1080\n"
     ]
    }
   ],
   "source": [
    "import pyautogui\n",
    "import time\n",
    "\n",
    "# 获取屏幕分辨率\n",
    "screen_width, screen_height = pyautogui.size()\n",
    "print(f\"屏幕分辨率: {screen_width}x{screen_height}\")\n",
    "\n",
    "time.sleep(3)\n",
    "# 获取当前鼠标位置\n",
    "current_x, current_y = pyautogui.position()\n",
    "print(f\"当前鼠标位置: {current_x}, {current_y}\")"
   ]
  },
  {
   "cell_type": "markdown",
   "metadata": {},
   "source": [
    "## Running"
   ]
  },
  {
   "cell_type": "code",
   "execution_count": null,
   "metadata": {},
   "outputs": [],
   "source": [
    "import cv2\n",
    "import numpy as np\n",
    "import keyboard\n",
    "import pyautogui\n",
    "\n",
    "import time\n",
    "import random\n",
    "\n",
    "y = 1150\n",
    "random_x = [219,441,530,618]\n",
    "#       x1   y1  x2  y2\n",
    "area = (215,673,658,949)\n",
    "\n",
    "start_key = [262, 903]\n",
    "battle_key = [414, 907]\n",
    "end_key = [442, 1067]\n",
    "\n",
    "# 计算图片的感知哈希值\n",
    "def calculate_phash(image_path):\n",
    "    image = cv2.imread(image_path, cv2.IMREAD_GRAYSCALE)  # 读取为灰度图\n",
    "    image = cv2.resize(image, (8, 8))  # 缩放到8x8\n",
    "    dct = cv2.dct(np.float32(image))  # 计算离散余弦变换（DCT）\n",
    "    dct_low_frequency = dct[:8, :8]  # 保留低频部分\n",
    "    avg = np.mean(dct_low_frequency)  # 计算平均值\n",
    "    hash_bits = dct_low_frequency > avg  # 转化为0/1\n",
    "    phash = ''.join(['1' if bit else '0' for bit in hash_bits.flatten()])\n",
    "    return phash\n",
    "\n",
    "# 计算汉明距离\n",
    "def hamming_distance(hash1, hash2):\n",
    "    return sum(c1 != c2 for c1, c2 in zip(hash1, hash2))\n",
    "\n",
    "# 事先准备好的图片路径\n",
    "reference_images = [\"./Battle.png\", \"./end.png\", \"./start.png\",'./unuse.png']  # 替换为你的文件路径\n",
    "\n",
    "# 计算每张参考图片的哈希值\n",
    "reference_hashes = {img: calculate_phash(img) for img in reference_images}\n",
    "\n",
    "def get_state():\n",
    "    screenshot = pyautogui.screenshot()\n",
    "    screenshot.save(\"screenshot.png\")\n",
    "    img = cv2.imread('./screenshot.png')\n",
    "    img2 = img[847:935,225:319]\n",
    "    cv2.imwrite(\"screenshot2.png\",img2)\n",
    "    target_image = \"./screenshot2.png\"  # 替换为你的目标图片路径\n",
    "    target_hash = calculate_phash(target_image)\n",
    "    min_distance = float('inf')\n",
    "    most_similar_image = None\n",
    "    # 比较哈希值并找出最相似的图片\n",
    "    for ref_img, ref_hash in reference_hashes.items():\n",
    "        distance = hamming_distance(target_hash, ref_hash)\n",
    "        if distance < min_distance:\n",
    "            min_distance = distance\n",
    "            most_similar_image = ref_img\n",
    "    if min_distance>17:\n",
    "        most_similar_image = './unuse.png'\n",
    "    # print(f\"最相似的图片是: {most_similar_image}, 汉明距离: {min_distance}\")\n",
    "    return reference_images.index(most_similar_image)\n",
    "# a = get_state()\n",
    "# print(a)\n",
    "\n",
    "end = 1\n",
    "start = 2\n",
    "battle = 0\n",
    "\n",
    "\n",
    "if __name__ == \"__main__\":\n",
    "    while True:\n",
    "        if keyboard.is_pressed('q'):  # 当按下 'q' 键时\n",
    "            break\n",
    "        # 获取当前状态\n",
    "        current_state = get_state()\n",
    "        # print(current_state)\n",
    "        if current_state == start:\n",
    "            pyautogui.click(start_key[0],start_key[1])\n",
    "        if current_state == battle:\n",
    "            pyautogui.click(battle_key[0],battle_key[1])\n",
    "        if current_state == end:\n",
    "            pyautogui.click(end_key[0],end_key[1])\n",
    "        if current_state == 3:\n",
    "            time.sleep(3)\n",
    "            \n",
    "            random_int = random.randint(0, 3)\n",
    "            \n",
    "            rand_x = random.randint(area[0], area[2])\n",
    "            rand_y = random.randint(area[1], area[3])\n",
    "            # print(rand_x, rand_y)\n",
    "            \n",
    "            pyautogui.click(random_x[random_int], y)\n",
    "            pyautogui.click(rand_x, rand_y)\n",
    "        \n",
    "        "
   ]
  },
  {
   "cell_type": "markdown",
   "metadata": {},
   "source": []
  }
 ],
 "metadata": {
  "kernelspec": {
   "display_name": "Common",
   "language": "python",
   "name": "python3"
  },
  "language_info": {
   "codemirror_mode": {
    "name": "ipython",
    "version": 3
   },
   "file_extension": ".py",
   "mimetype": "text/x-python",
   "name": "python",
   "nbconvert_exporter": "python",
   "pygments_lexer": "ipython3",
   "version": "3.11.10"
  }
 },
 "nbformat": 4,
 "nbformat_minor": 2
}
